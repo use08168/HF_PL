{
 "cells": [
  {
   "cell_type": "markdown",
   "id": "176c8697",
   "metadata": {},
   "source": [
    "# 짭오링고(듀오링고 아닙니다~)"
   ]
  },
  {
   "cell_type": "markdown",
   "id": "d1c86767",
   "metadata": {},
   "source": [
    "필요한 테스크\n",
    "\n",
    "1. 영어 단어 파일.csv(랜덤으로 단어 픽)\n",
    "2. 단어를 통한 문장 생성기(예문 만들기 용)\n",
    "3. 유사 단어 생성기(단어 찾기 게임)\n",
    "4. 한글 번역기\n",
    "5. 스트림랩"
   ]
  },
  {
   "cell_type": "code",
   "execution_count": 7,
   "id": "d8deb3f0",
   "metadata": {},
   "outputs": [],
   "source": [
    "# %% 0) 공통 설정 (오프라인 강제)\n",
    "import os, re, random, time\n",
    "from typing import List\n",
    "\n",
    "import pandas as pd\n",
    "from transformers import AutoTokenizer, AutoModelForSeq2SeqLM, pipeline, set_seed\n",
    "\n",
    "# 오프라인 강제: 절대 외부로 나가지 않음\n",
    "os.environ[\"HF_HUB_OFFLINE\"] = \"1\"\n",
    "os.environ[\"TRANSFORMERS_OFFLINE\"] = \"1\"\n",
    "\n",
    "# 로컬 모델 경로 (네 폴더 구조에 맞춰 둠)\n",
    "FLAN_DIR = \"./models/flan-t5-small\"\n",
    "M2M_DIR  = \"./models/m2m100_418M\"\n",
    "\n",
    "CSV_PATH = \"Concreteness_english.csv\"\n",
    "WORD_COL = \"Word\"\n",
    "\n",
    "MAX_WORDS      = 6      # 생성 문장 단어 수 상한(난이도)\n",
    "MAX_NEW_TOKENS = 24\n",
    "RETRIES_GEN    = 6\n",
    "RETRIES_WORDS  = 50\n",
    "\n",
    "WORD_RE = re.compile(r\"[A-Za-z']+\")\n",
    "set_seed(1337)\n",
    "\n",
    "def tokenize_words(text: str) -> List[str]:\n",
    "    return WORD_RE.findall(text)\n",
    "\n",
    "def enforce_sentence_end(s: str) -> str:\n",
    "    s = s.strip()\n",
    "    if not re.search(r\"[.!?]$\", s):\n",
    "        s += \".\"\n",
    "    return s\n",
    "\n",
    "def within_limit(tokens: List[str], lo=3, hi=MAX_WORDS) -> bool:\n",
    "    return lo <= len(tokens) <= hi\n",
    "\n",
    "def is_tautology(sent: str, word: str) -> bool:\n",
    "    w = re.escape(word.lower())\n",
    "    return bool(re.search(rf\"\\b{w}\\b\\s+is\\s+(a|the)?\\s*\\b{w}\\b\", sent.lower()))\n"
   ]
  },
  {
   "cell_type": "code",
   "execution_count": 8,
   "id": "e443c08f",
   "metadata": {},
   "outputs": [
    {
     "data": {
      "application/vnd.microsoft.datawrangler.viewer.v0+json": {
       "columns": [
        {
         "name": "index",
         "rawType": "int64",
         "type": "integer"
        },
        {
         "name": "Word",
         "rawType": "object",
         "type": "string"
        }
       ],
       "ref": "037a27c4-4b25-43f4-8b3d-24e15f76fb2f",
       "rows": [
        [
         "0",
         "roadsweeper"
        ],
        [
         "1",
         "traindriver"
        ],
        [
         "2",
         "tush"
        ],
        [
         "3",
         "hairdress"
        ],
        [
         "4",
         "pharmaceutics"
        ],
        [
         "5",
         "hoover"
        ],
        [
         "6",
         "shopkeeping"
        ],
        [
         "7",
         "pushiness"
        ],
        [
         "8",
         "underdevelop"
        ],
        [
         "9",
         "tirelessness"
        ],
        [
         "10",
         "oldfashioned"
        ],
        [
         "11",
         "wellmannered"
        ],
        [
         "12",
         "dismissiveness"
        ],
        [
         "13",
         "spitefulness"
        ],
        [
         "14",
         "untruthfulness"
        ],
        [
         "15",
         "dispiritedness"
        ],
        [
         "16",
         "sled"
        ],
        [
         "17",
         "plunger"
        ],
        [
         "18",
         "human"
        ],
        [
         "19",
         "waterbed"
        ]
       ],
       "shape": {
        "columns": 1,
        "rows": 20
       }
      },
      "text/html": [
       "<div>\n",
       "<style scoped>\n",
       "    .dataframe tbody tr th:only-of-type {\n",
       "        vertical-align: middle;\n",
       "    }\n",
       "\n",
       "    .dataframe tbody tr th {\n",
       "        vertical-align: top;\n",
       "    }\n",
       "\n",
       "    .dataframe thead th {\n",
       "        text-align: right;\n",
       "    }\n",
       "</style>\n",
       "<table border=\"1\" class=\"dataframe\">\n",
       "  <thead>\n",
       "    <tr style=\"text-align: right;\">\n",
       "      <th></th>\n",
       "      <th>Word</th>\n",
       "    </tr>\n",
       "  </thead>\n",
       "  <tbody>\n",
       "    <tr>\n",
       "      <th>0</th>\n",
       "      <td>roadsweeper</td>\n",
       "    </tr>\n",
       "    <tr>\n",
       "      <th>1</th>\n",
       "      <td>traindriver</td>\n",
       "    </tr>\n",
       "    <tr>\n",
       "      <th>2</th>\n",
       "      <td>tush</td>\n",
       "    </tr>\n",
       "    <tr>\n",
       "      <th>3</th>\n",
       "      <td>hairdress</td>\n",
       "    </tr>\n",
       "    <tr>\n",
       "      <th>4</th>\n",
       "      <td>pharmaceutics</td>\n",
       "    </tr>\n",
       "    <tr>\n",
       "      <th>5</th>\n",
       "      <td>hoover</td>\n",
       "    </tr>\n",
       "    <tr>\n",
       "      <th>6</th>\n",
       "      <td>shopkeeping</td>\n",
       "    </tr>\n",
       "    <tr>\n",
       "      <th>7</th>\n",
       "      <td>pushiness</td>\n",
       "    </tr>\n",
       "    <tr>\n",
       "      <th>8</th>\n",
       "      <td>underdevelop</td>\n",
       "    </tr>\n",
       "    <tr>\n",
       "      <th>9</th>\n",
       "      <td>tirelessness</td>\n",
       "    </tr>\n",
       "    <tr>\n",
       "      <th>10</th>\n",
       "      <td>oldfashioned</td>\n",
       "    </tr>\n",
       "    <tr>\n",
       "      <th>11</th>\n",
       "      <td>wellmannered</td>\n",
       "    </tr>\n",
       "    <tr>\n",
       "      <th>12</th>\n",
       "      <td>dismissiveness</td>\n",
       "    </tr>\n",
       "    <tr>\n",
       "      <th>13</th>\n",
       "      <td>spitefulness</td>\n",
       "    </tr>\n",
       "    <tr>\n",
       "      <th>14</th>\n",
       "      <td>untruthfulness</td>\n",
       "    </tr>\n",
       "    <tr>\n",
       "      <th>15</th>\n",
       "      <td>dispiritedness</td>\n",
       "    </tr>\n",
       "    <tr>\n",
       "      <th>16</th>\n",
       "      <td>sled</td>\n",
       "    </tr>\n",
       "    <tr>\n",
       "      <th>17</th>\n",
       "      <td>plunger</td>\n",
       "    </tr>\n",
       "    <tr>\n",
       "      <th>18</th>\n",
       "      <td>human</td>\n",
       "    </tr>\n",
       "    <tr>\n",
       "      <th>19</th>\n",
       "      <td>waterbed</td>\n",
       "    </tr>\n",
       "  </tbody>\n",
       "</table>\n",
       "</div>"
      ],
      "text/plain": [
       "              Word\n",
       "0      roadsweeper\n",
       "1      traindriver\n",
       "2             tush\n",
       "3        hairdress\n",
       "4    pharmaceutics\n",
       "5           hoover\n",
       "6      shopkeeping\n",
       "7        pushiness\n",
       "8     underdevelop\n",
       "9     tirelessness\n",
       "10    oldfashioned\n",
       "11    wellmannered\n",
       "12  dismissiveness\n",
       "13    spitefulness\n",
       "14  untruthfulness\n",
       "15  dispiritedness\n",
       "16            sled\n",
       "17         plunger\n",
       "18           human\n",
       "19        waterbed"
      ]
     },
     "execution_count": 8,
     "metadata": {},
     "output_type": "execute_result"
    }
   ],
   "source": [
    "# %% 1) 데이터 로드 (없으면 샘플로 대체)\n",
    "def load_wordlist():\n",
    "    if os.path.exists(CSV_PATH):\n",
    "        try:\n",
    "            df = pd.read_csv(CSV_PATH)\n",
    "            if WORD_COL in df.columns:\n",
    "                words = (df[WORD_COL].astype(str).str.strip().str.lower()\n",
    "                         .dropna().unique().tolist())\n",
    "                words = [w for w in words if w.isalpha() and len(w) >= 2]\n",
    "            else:\n",
    "                words = []\n",
    "        except Exception:\n",
    "            words = []\n",
    "    else:\n",
    "        words = []\n",
    "    if not words:\n",
    "        words = [\"apple\", \"river\", \"music\", \"future\", \"pattern\", \"me\", \"friend\", \"time\"]\n",
    "    return words\n",
    "\n",
    "WORDS = load_wordlist()\n",
    "pd.DataFrame({\"Word\": WORDS[:20]})\n"
   ]
  },
  {
   "cell_type": "code",
   "execution_count": 9,
   "id": "aa4c19b5",
   "metadata": {},
   "outputs": [
    {
     "name": "stderr",
     "output_type": "stream",
     "text": [
      "Device set to use cpu\n",
      "Device set to use cpu\n"
     ]
    },
    {
     "name": "stdout",
     "output_type": "stream",
     "text": [
      "GEN: time 's the time 's the time 's the time\n",
      "TR : 안녕하세요 세계\n"
     ]
    }
   ],
   "source": [
    "# %% 2) 로컬 모델 로딩 (from_pretrained(..., local_files_only=True)로 안전 로드)\n",
    "def load_generator_local():\n",
    "    tok = AutoTokenizer.from_pretrained(FLAN_DIR, local_files_only=True)\n",
    "    mdl = AutoModelForSeq2SeqLM.from_pretrained(FLAN_DIR, local_files_only=True)\n",
    "    return pipeline(\"text2text-generation\", model=mdl, tokenizer=tok, device=-1)\n",
    "\n",
    "def load_en2ko_local():\n",
    "    tok = AutoTokenizer.from_pretrained(M2M_DIR, local_files_only=True)\n",
    "    mdl = AutoModelForSeq2SeqLM.from_pretrained(M2M_DIR, local_files_only=True)\n",
    "    return pipeline(\"translation\", model=mdl, tokenizer=tok,\n",
    "                    src_lang=\"en\", tgt_lang=\"ko\", device=-1)\n",
    "\n",
    "gen_pipe = load_generator_local()\n",
    "trans_pipe = load_en2ko_local()\n",
    "\n",
    "# 스모크 테스트\n",
    "print(\"GEN:\", gen_pipe(\"Write a short sentence with 'time'.\", max_new_tokens=16)[0][\"generated_text\"])\n",
    "print(\"TR :\", trans_pipe(\"Hello world.\", max_new_tokens=16)[0][\"translation_text\"])\n"
   ]
  },
  {
   "cell_type": "code",
   "execution_count": 10,
   "id": "fb7bd71a",
   "metadata": {},
   "outputs": [],
   "source": [
    "# %% 3) 문장 생성/번역 유틸\n",
    "def build_prompt(word: str) -> str:\n",
    "    return (f\"Write one natural English sentence under {MAX_WORDS} words \"\n",
    "            f\"that uses the word '{word}' exactly once. \"\n",
    "            f\"Avoid definitions like \\\"{word} is a {word}\\\" and keep it conversational.\")\n",
    "\n",
    "def generate_sentence_with_word(word: str) -> str:\n",
    "    word = word.lower()\n",
    "    for _ in range(RETRIES_GEN):\n",
    "        out = gen_pipe(build_prompt(word),\n",
    "                       max_new_tokens=MAX_NEW_TOKENS,\n",
    "                       do_sample=False, num_return_sequences=1)[0][\"generated_text\"]\n",
    "        out = enforce_sentence_end(out)\n",
    "        toks = tokenize_words(out)\n",
    "        has_word = re.search(rf\"\\b{re.escape(word)}\\b\", out, flags=re.IGNORECASE) is not None\n",
    "        if has_word and within_limit(toks) and not is_tautology(out, word):\n",
    "            if len(re.findall(rf\"\\b{re.escape(word)}\\b\", out, flags=re.IGNORECASE)) <= 2:\n",
    "                return out\n",
    "    return \"This is me.\" if word == \"me\" else f\"I like {word}.\"\n",
    "\n",
    "def translate_en2ko(text: str) -> str:\n",
    "    return trans_pipe(text, max_new_tokens=MAX_NEW_TOKENS)[0][\"translation_text\"]\n"
   ]
  },
  {
   "cell_type": "code",
   "execution_count": 11,
   "id": "88bba5ca",
   "metadata": {},
   "outputs": [
    {
     "data": {
      "application/vnd.jupyter.widget-view+json": {
       "model_id": "c8106b44619145c3b6aad5ccb25ea292",
       "version_major": 2,
       "version_minor": 0
      },
      "text/plain": [
       "VBox(children=(HBox(children=(HTML(value='<b>라운드:</b> 1'), HTML(value='<b>단어 수:</b> 4'))), HTML(value='<b>한국어 …"
      ]
     },
     "metadata": {},
     "output_type": "display_data"
    }
   ],
   "source": [
    "# %% 4) 위젯 기반 UI (ipywidgets)\n",
    "from ipywidgets import VBox, HBox, Button, HTML, Output, Layout\n",
    "\n",
    "class MemoryOrderGame:\n",
    "    def __init__(self, words):\n",
    "        self.words = words\n",
    "        self.round_id = 0\n",
    "        self.score = {\"correct\": 0, \"total\": 0}\n",
    "        self.hint_on = False\n",
    "        \n",
    "        # 상단 라벨\n",
    "        self.lbl_round = HTML(\"<b>라운드:</b> 0\")\n",
    "        self.lbl_hint  = HTML(\"<b>한국어 힌트:</b> —\")\n",
    "        self.lbl_count = HTML(\"<b>단어 수:</b> —\")\n",
    "        self.lbl_selected = HTML(\"<b>당신의 선택:</b> —\")\n",
    "        self.lbl_result   = HTML(\"\")\n",
    "        self.lbl_score    = HTML(\"<b>스코어:</b> 0 / 0 (정확도 0.0%)\")\n",
    "        \n",
    "        # 토큰 버튼 컨테이너\n",
    "        self.token_box = HBox()\n",
    "        \n",
    "        # 컨트롤 버튼\n",
    "        self.btn_reset    = Button(description=\"선택 초기화\", layout=Layout(width=\"120px\"))\n",
    "        self.btn_reshuffle= Button(description=\"재셔플\", layout=Layout(width=\"120px\"))\n",
    "        self.btn_hint     = Button(description=\"힌트 토글\", layout=Layout(width=\"120px\"))\n",
    "        self.btn_check    = Button(description=\"정답 확인\", button_style=\"primary\", layout=Layout(width=\"120px\"))\n",
    "        self.btn_next     = Button(description=\"다음 라운드 ▶\", layout=Layout(width=\"140px\"))\n",
    "        \n",
    "        self.btn_reset.on_click(self.on_reset)\n",
    "        self.btn_reshuffle.on_click(self.on_reshuffle)\n",
    "        self.btn_hint.on_click(self.on_hint)\n",
    "        self.btn_check.on_click(self.on_check)\n",
    "        self.btn_next.on_click(self.on_next)\n",
    "        \n",
    "        self.box = VBox([\n",
    "            HBox([self.lbl_round, self.lbl_count]),\n",
    "            self.lbl_hint,\n",
    "            self.token_box,\n",
    "            self.lbl_selected,\n",
    "            HBox([self.btn_reset, self.btn_reshuffle, self.btn_hint, self.btn_check, self.btn_next]),\n",
    "            self.lbl_result,\n",
    "            self.lbl_score\n",
    "        ])\n",
    "        \n",
    "        # 상태\n",
    "        self.word = None\n",
    "        self.sent_en = None\n",
    "        self.sent_ko = None\n",
    "        self.tokens = []\n",
    "        self.shuffled = []\n",
    "        self.selected_idx = []\n",
    "        self.correct = None\n",
    "        \n",
    "        self.new_round()\n",
    "    \n",
    "    # --- 내부 도우미 ---\n",
    "    def _render_tokens(self):\n",
    "        buttons = []\n",
    "        for i, tok in enumerate(self.shuffled):\n",
    "            b = Button(description=tok, layout=Layout(width=\"auto\"))\n",
    "            b.disabled = (i in self.selected_idx) or (self.correct is True)\n",
    "            def _on_click(btn, idx=i):\n",
    "                if idx not in self.selected_idx and not self.correct:\n",
    "                    self.selected_idx.append(idx)\n",
    "                    self._update_selected_label()\n",
    "                    self._render_tokens()  # 버튼 상태 갱신\n",
    "            b.on_click(_on_click)\n",
    "            buttons.append(b)\n",
    "        self.token_box.children = tuple(buttons)\n",
    "    \n",
    "    def _update_selected_label(self):\n",
    "        chosen = [self.shuffled[i] for i in self.selected_idx]\n",
    "        self.lbl_selected.value = \"<b>당신의 선택:</b> \" + (\" \".join(chosen) if chosen else \"—\")\n",
    "    \n",
    "    def _update_top(self):\n",
    "        self.lbl_round.value = f\"<b>라운드:</b> {self.round_id}\"\n",
    "        self.lbl_count.value = f\"<b>단어 수:</b> {len(self.tokens)}\"\n",
    "        hint_html = f\"<b>한국어 힌트:</b> {self.sent_ko}\"\n",
    "        if self.hint_on and self.tokens:\n",
    "            hint_html += f\" &nbsp;&nbsp; <i>(첫 단어 힌트: <b>{self.tokens[0]}</b>)</i>\"\n",
    "        self.lbl_hint.value = hint_html\n",
    "        \n",
    "        acc = (self.score[\"correct\"]/self.score[\"total\"]*100) if self.score[\"total\"] else 0.0\n",
    "        self.lbl_score.value = f\"<b>스코어:</b> {self.score['correct']} / {self.score['total']} (정확도 {acc:.1f}%)\"\n",
    "    \n",
    "    # --- 라운드 ---\n",
    "    def new_round(self):\n",
    "        for _ in range(RETRIES_WORDS):\n",
    "            w = random.choice(self.words)\n",
    "            s = generate_sentence_with_word(w)\n",
    "            toks = tokenize_words(s)\n",
    "            if within_limit(toks):\n",
    "                break\n",
    "        else:\n",
    "            w, s, toks = \"me\", \"This is me.\", [\"This\", \"is\", \"me\"]\n",
    "        \n",
    "        self.round_id += 1\n",
    "        self.word = w\n",
    "        self.sent_en = s\n",
    "        self.sent_ko = translate_en2ko(s)\n",
    "        self.tokens = toks\n",
    "        self.shuffled = toks[:]\n",
    "        random.shuffle(self.shuffled)\n",
    "        self.selected_idx = []\n",
    "        self.correct = None\n",
    "        self.lbl_result.value = \"\"\n",
    "        \n",
    "        self._render_tokens()\n",
    "        self._update_selected_label()\n",
    "        self._update_top()\n",
    "    \n",
    "    # --- 버튼 핸들러 ---\n",
    "    def on_reset(self, _):\n",
    "        self.selected_idx = []\n",
    "        self.correct = None\n",
    "        self.lbl_result.value = \"\"\n",
    "        self._render_tokens()\n",
    "        self._update_selected_label()\n",
    "    \n",
    "    def on_reshuffle(self, _):\n",
    "        random.shuffle(self.shuffled)\n",
    "        self.selected_idx = []\n",
    "        self.correct = None\n",
    "        self.lbl_result.value = \"\"\n",
    "        self._render_tokens()\n",
    "        self._update_selected_label()\n",
    "    \n",
    "    def on_hint(self, _):\n",
    "        self.hint_on = not self.hint_on\n",
    "        self._update_top()\n",
    "    \n",
    "    def on_check(self, _):\n",
    "        if len(self.selected_idx) != len(self.tokens):\n",
    "            self.lbl_result.value = \"<span style='color:#d97706'>모든 단어를 순서대로 선택해 주세요!</span>\"\n",
    "            return\n",
    "        pred = [self.shuffled[i] for i in self.selected_idx]\n",
    "        gold = self.tokens\n",
    "        ok = ([p.lower() for p in pred] == [g.lower() for g in gold])\n",
    "        self.correct = ok\n",
    "        self.score[\"total\"] += 1\n",
    "        if ok: self.score[\"correct\"] += 1\n",
    "        if ok:\n",
    "            self.lbl_result.value = f\"<span style='color:#059669'>✅ 정답! 원문: {self.sent_en}</span>\"\n",
    "        else:\n",
    "            self.lbl_result.value = f\"<span style='color:#dc2626'>❌ 오답! 원문: {self.sent_en}</span>\"\n",
    "        self._update_top()\n",
    "        self._render_tokens()\n",
    "    \n",
    "    def on_next(self, _):\n",
    "        self.new_round()\n",
    "\n",
    "game = MemoryOrderGame(WORDS)\n",
    "display(game.box)\n"
   ]
  }
 ],
 "metadata": {
  "kernelspec": {
   "display_name": "nlp_env",
   "language": "python",
   "name": "python3"
  },
  "language_info": {
   "codemirror_mode": {
    "name": "ipython",
    "version": 3
   },
   "file_extension": ".py",
   "mimetype": "text/x-python",
   "name": "python",
   "nbconvert_exporter": "python",
   "pygments_lexer": "ipython3",
   "version": "3.12.11"
  }
 },
 "nbformat": 4,
 "nbformat_minor": 5
}
